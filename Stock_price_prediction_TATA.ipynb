{
  "nbformat": 4,
  "nbformat_minor": 0,
  "metadata": {
    "colab": {
      "provenance": [],
      "gpuType": "T4",
      "authorship_tag": "ABX9TyPuel/OQ8bHg8JzRTFXEhND",
      "include_colab_link": true
    },
    "kernelspec": {
      "name": "python3",
      "display_name": "Python 3"
    },
    "language_info": {
      "name": "python"
    },
    "accelerator": "GPU"
  },
  "cells": [
    {
      "cell_type": "markdown",
      "metadata": {
        "id": "view-in-github",
        "colab_type": "text"
      },
      "source": [
        "<a href=\"https://colab.research.google.com/github/kashishthakur26/MLprojects/blob/main/Stock_price_prediction_TATA.ipynb\" target=\"_parent\"><img src=\"https://colab.research.google.com/assets/colab-badge.svg\" alt=\"Open In Colab\"/></a>"
      ]
    },
    {
      "cell_type": "code",
      "execution_count": 1,
      "metadata": {
        "id": "7I9uHKCkloEc"
      },
      "outputs": [],
      "source": [
        "import numpy as np\n",
        "import pandas as pd\n",
        "import matplotlib.pyplot as plt"
      ]
    },
    {
      "cell_type": "code",
      "source": [
        "url = 'https://raw.githubusercontent.com/mwitiderrick/stockprice/master/NSE-TATAGLOBAL.csv'\n",
        "dataset_train = pd.read_csv(url)\n",
        "training_set = dataset_train.iloc[: , 1:2].values"
      ],
      "metadata": {
        "id": "YzYNhE-NmLNA"
      },
      "execution_count": 2,
      "outputs": []
    },
    {
      "cell_type": "code",
      "source": [
        "training_set"
      ],
      "metadata": {
        "colab": {
          "base_uri": "https://localhost:8080/"
        },
        "id": "6fG-E8u-mUHg",
        "outputId": "a81ea441-f9fe-4dbe-8701-a3d49ea6a92f"
      },
      "execution_count": 3,
      "outputs": [
        {
          "output_type": "execute_result",
          "data": {
            "text/plain": [
              "array([[234.05],\n",
              "       [234.55],\n",
              "       [240.  ],\n",
              "       ...,\n",
              "       [121.8 ],\n",
              "       [120.3 ],\n",
              "       [122.1 ]])"
            ]
          },
          "metadata": {},
          "execution_count": 3
        }
      ]
    },
    {
      "cell_type": "code",
      "source": [
        "dataset_train.head()"
      ],
      "metadata": {
        "colab": {
          "base_uri": "https://localhost:8080/",
          "height": 354
        },
        "id": "9iLXDSr1m9Dk",
        "outputId": "65f92477-e9b6-473c-804a-75e8805da0ba"
      },
      "execution_count": 4,
      "outputs": [
        {
          "output_type": "execute_result",
          "data": {
            "text/plain": [
              "         Date    Open    High     Low    Last   Close  Total Trade Quantity  \\\n",
              "0  2018-09-28  234.05  235.95  230.20  233.50  233.75               3069914   \n",
              "1  2018-09-27  234.55  236.80  231.10  233.80  233.25               5082859   \n",
              "2  2018-09-26  240.00  240.00  232.50  235.00  234.25               2240909   \n",
              "3  2018-09-25  233.30  236.75  232.00  236.25  236.10               2349368   \n",
              "4  2018-09-24  233.55  239.20  230.75  234.00  233.30               3423509   \n",
              "\n",
              "   Turnover (Lacs)  \n",
              "0          7162.35  \n",
              "1         11859.95  \n",
              "2          5248.60  \n",
              "3          5503.90  \n",
              "4          7999.55  "
            ],
            "text/html": [
              "\n",
              "\n",
              "  <div id=\"df-b1daf006-a3b9-4d28-a249-0aea029a780d\">\n",
              "    <div class=\"colab-df-container\">\n",
              "      <div>\n",
              "<style scoped>\n",
              "    .dataframe tbody tr th:only-of-type {\n",
              "        vertical-align: middle;\n",
              "    }\n",
              "\n",
              "    .dataframe tbody tr th {\n",
              "        vertical-align: top;\n",
              "    }\n",
              "\n",
              "    .dataframe thead th {\n",
              "        text-align: right;\n",
              "    }\n",
              "</style>\n",
              "<table border=\"1\" class=\"dataframe\">\n",
              "  <thead>\n",
              "    <tr style=\"text-align: right;\">\n",
              "      <th></th>\n",
              "      <th>Date</th>\n",
              "      <th>Open</th>\n",
              "      <th>High</th>\n",
              "      <th>Low</th>\n",
              "      <th>Last</th>\n",
              "      <th>Close</th>\n",
              "      <th>Total Trade Quantity</th>\n",
              "      <th>Turnover (Lacs)</th>\n",
              "    </tr>\n",
              "  </thead>\n",
              "  <tbody>\n",
              "    <tr>\n",
              "      <th>0</th>\n",
              "      <td>2018-09-28</td>\n",
              "      <td>234.05</td>\n",
              "      <td>235.95</td>\n",
              "      <td>230.20</td>\n",
              "      <td>233.50</td>\n",
              "      <td>233.75</td>\n",
              "      <td>3069914</td>\n",
              "      <td>7162.35</td>\n",
              "    </tr>\n",
              "    <tr>\n",
              "      <th>1</th>\n",
              "      <td>2018-09-27</td>\n",
              "      <td>234.55</td>\n",
              "      <td>236.80</td>\n",
              "      <td>231.10</td>\n",
              "      <td>233.80</td>\n",
              "      <td>233.25</td>\n",
              "      <td>5082859</td>\n",
              "      <td>11859.95</td>\n",
              "    </tr>\n",
              "    <tr>\n",
              "      <th>2</th>\n",
              "      <td>2018-09-26</td>\n",
              "      <td>240.00</td>\n",
              "      <td>240.00</td>\n",
              "      <td>232.50</td>\n",
              "      <td>235.00</td>\n",
              "      <td>234.25</td>\n",
              "      <td>2240909</td>\n",
              "      <td>5248.60</td>\n",
              "    </tr>\n",
              "    <tr>\n",
              "      <th>3</th>\n",
              "      <td>2018-09-25</td>\n",
              "      <td>233.30</td>\n",
              "      <td>236.75</td>\n",
              "      <td>232.00</td>\n",
              "      <td>236.25</td>\n",
              "      <td>236.10</td>\n",
              "      <td>2349368</td>\n",
              "      <td>5503.90</td>\n",
              "    </tr>\n",
              "    <tr>\n",
              "      <th>4</th>\n",
              "      <td>2018-09-24</td>\n",
              "      <td>233.55</td>\n",
              "      <td>239.20</td>\n",
              "      <td>230.75</td>\n",
              "      <td>234.00</td>\n",
              "      <td>233.30</td>\n",
              "      <td>3423509</td>\n",
              "      <td>7999.55</td>\n",
              "    </tr>\n",
              "  </tbody>\n",
              "</table>\n",
              "</div>\n",
              "      <button class=\"colab-df-convert\" onclick=\"convertToInteractive('df-b1daf006-a3b9-4d28-a249-0aea029a780d')\"\n",
              "              title=\"Convert this dataframe to an interactive table.\"\n",
              "              style=\"display:none;\">\n",
              "\n",
              "  <svg xmlns=\"http://www.w3.org/2000/svg\" height=\"24px\"viewBox=\"0 0 24 24\"\n",
              "       width=\"24px\">\n",
              "    <path d=\"M0 0h24v24H0V0z\" fill=\"none\"/>\n",
              "    <path d=\"M18.56 5.44l.94 2.06.94-2.06 2.06-.94-2.06-.94-.94-2.06-.94 2.06-2.06.94zm-11 1L8.5 8.5l.94-2.06 2.06-.94-2.06-.94L8.5 2.5l-.94 2.06-2.06.94zm10 10l.94 2.06.94-2.06 2.06-.94-2.06-.94-.94-2.06-.94 2.06-2.06.94z\"/><path d=\"M17.41 7.96l-1.37-1.37c-.4-.4-.92-.59-1.43-.59-.52 0-1.04.2-1.43.59L10.3 9.45l-7.72 7.72c-.78.78-.78 2.05 0 2.83L4 21.41c.39.39.9.59 1.41.59.51 0 1.02-.2 1.41-.59l7.78-7.78 2.81-2.81c.8-.78.8-2.07 0-2.86zM5.41 20L4 18.59l7.72-7.72 1.47 1.35L5.41 20z\"/>\n",
              "  </svg>\n",
              "      </button>\n",
              "\n",
              "\n",
              "\n",
              "    <div id=\"df-01ecd057-039a-483e-8640-5c336c882ca9\">\n",
              "      <button class=\"colab-df-quickchart\" onclick=\"quickchart('df-01ecd057-039a-483e-8640-5c336c882ca9')\"\n",
              "              title=\"Suggest charts.\"\n",
              "              style=\"display:none;\">\n",
              "\n",
              "<svg xmlns=\"http://www.w3.org/2000/svg\" height=\"24px\"viewBox=\"0 0 24 24\"\n",
              "     width=\"24px\">\n",
              "    <g>\n",
              "        <path d=\"M19 3H5c-1.1 0-2 .9-2 2v14c0 1.1.9 2 2 2h14c1.1 0 2-.9 2-2V5c0-1.1-.9-2-2-2zM9 17H7v-7h2v7zm4 0h-2V7h2v10zm4 0h-2v-4h2v4z\"/>\n",
              "    </g>\n",
              "</svg>\n",
              "      </button>\n",
              "    </div>\n",
              "\n",
              "<style>\n",
              "  .colab-df-quickchart {\n",
              "    background-color: #E8F0FE;\n",
              "    border: none;\n",
              "    border-radius: 50%;\n",
              "    cursor: pointer;\n",
              "    display: none;\n",
              "    fill: #1967D2;\n",
              "    height: 32px;\n",
              "    padding: 0 0 0 0;\n",
              "    width: 32px;\n",
              "  }\n",
              "\n",
              "  .colab-df-quickchart:hover {\n",
              "    background-color: #E2EBFA;\n",
              "    box-shadow: 0px 1px 2px rgba(60, 64, 67, 0.3), 0px 1px 3px 1px rgba(60, 64, 67, 0.15);\n",
              "    fill: #174EA6;\n",
              "  }\n",
              "\n",
              "  [theme=dark] .colab-df-quickchart {\n",
              "    background-color: #3B4455;\n",
              "    fill: #D2E3FC;\n",
              "  }\n",
              "\n",
              "  [theme=dark] .colab-df-quickchart:hover {\n",
              "    background-color: #434B5C;\n",
              "    box-shadow: 0px 1px 3px 1px rgba(0, 0, 0, 0.15);\n",
              "    filter: drop-shadow(0px 1px 2px rgba(0, 0, 0, 0.3));\n",
              "    fill: #FFFFFF;\n",
              "  }\n",
              "</style>\n",
              "\n",
              "    <script>\n",
              "      async function quickchart(key) {\n",
              "        const containerElement = document.querySelector('#' + key);\n",
              "        const charts = await google.colab.kernel.invokeFunction(\n",
              "            'suggestCharts', [key], {});\n",
              "      }\n",
              "    </script>\n",
              "\n",
              "      <script>\n",
              "\n",
              "function displayQuickchartButton(domScope) {\n",
              "  let quickchartButtonEl =\n",
              "    domScope.querySelector('#df-01ecd057-039a-483e-8640-5c336c882ca9 button.colab-df-quickchart');\n",
              "  quickchartButtonEl.style.display =\n",
              "    google.colab.kernel.accessAllowed ? 'block' : 'none';\n",
              "}\n",
              "\n",
              "        displayQuickchartButton(document);\n",
              "      </script>\n",
              "      <style>\n",
              "    .colab-df-container {\n",
              "      display:flex;\n",
              "      flex-wrap:wrap;\n",
              "      gap: 12px;\n",
              "    }\n",
              "\n",
              "    .colab-df-convert {\n",
              "      background-color: #E8F0FE;\n",
              "      border: none;\n",
              "      border-radius: 50%;\n",
              "      cursor: pointer;\n",
              "      display: none;\n",
              "      fill: #1967D2;\n",
              "      height: 32px;\n",
              "      padding: 0 0 0 0;\n",
              "      width: 32px;\n",
              "    }\n",
              "\n",
              "    .colab-df-convert:hover {\n",
              "      background-color: #E2EBFA;\n",
              "      box-shadow: 0px 1px 2px rgba(60, 64, 67, 0.3), 0px 1px 3px 1px rgba(60, 64, 67, 0.15);\n",
              "      fill: #174EA6;\n",
              "    }\n",
              "\n",
              "    [theme=dark] .colab-df-convert {\n",
              "      background-color: #3B4455;\n",
              "      fill: #D2E3FC;\n",
              "    }\n",
              "\n",
              "    [theme=dark] .colab-df-convert:hover {\n",
              "      background-color: #434B5C;\n",
              "      box-shadow: 0px 1px 3px 1px rgba(0, 0, 0, 0.15);\n",
              "      filter: drop-shadow(0px 1px 2px rgba(0, 0, 0, 0.3));\n",
              "      fill: #FFFFFF;\n",
              "    }\n",
              "  </style>\n",
              "\n",
              "      <script>\n",
              "        const buttonEl =\n",
              "          document.querySelector('#df-b1daf006-a3b9-4d28-a249-0aea029a780d button.colab-df-convert');\n",
              "        buttonEl.style.display =\n",
              "          google.colab.kernel.accessAllowed ? 'block' : 'none';\n",
              "\n",
              "        async function convertToInteractive(key) {\n",
              "          const element = document.querySelector('#df-b1daf006-a3b9-4d28-a249-0aea029a780d');\n",
              "          const dataTable =\n",
              "            await google.colab.kernel.invokeFunction('convertToInteractive',\n",
              "                                                     [key], {});\n",
              "          if (!dataTable) return;\n",
              "\n",
              "          const docLinkHtml = 'Like what you see? Visit the ' +\n",
              "            '<a target=\"_blank\" href=https://colab.research.google.com/notebooks/data_table.ipynb>data table notebook</a>'\n",
              "            + ' to learn more about interactive tables.';\n",
              "          element.innerHTML = '';\n",
              "          dataTable['output_type'] = 'display_data';\n",
              "          await google.colab.output.renderOutput(dataTable, element);\n",
              "          const docLink = document.createElement('div');\n",
              "          docLink.innerHTML = docLinkHtml;\n",
              "          element.appendChild(docLink);\n",
              "        }\n",
              "      </script>\n",
              "    </div>\n",
              "  </div>\n"
            ]
          },
          "metadata": {},
          "execution_count": 4
        }
      ]
    },
    {
      "cell_type": "markdown",
      "source": [
        "### Import MinMaxScaler from scikit-learn to scale our dataset into numbers between 0 and 1"
      ],
      "metadata": {
        "id": "ShixJxP1nH6F"
      }
    },
    {
      "cell_type": "code",
      "source": [
        "from sklearn.preprocessing import MinMaxScaler\n",
        "sc = MinMaxScaler(feature_range=(0,1))\n",
        "training_set_scaled = sc.fit_transform(training_set)"
      ],
      "metadata": {
        "id": "7s1__-CmnXcf"
      },
      "execution_count": 5,
      "outputs": []
    },
    {
      "cell_type": "markdown",
      "source": [
        "### We want our data to be in the form of 3D array for our LSTM model. First, we create data in 60 timesteps and convert it into an array using Numpy. Then, we convert the data into a 3D array with X_train_samples, 60 timestamps and one feature at each step."
      ],
      "metadata": {
        "id": "TOKr1DdJnk6d"
      }
    },
    {
      "cell_type": "code",
      "source": [
        "X_train = []\n",
        "y_train = []\n",
        "for i in range(60, 2035):\n",
        "    X_train.append(training_set_scaled[i-60:i, 0])\n",
        "    y_train.append(training_set_scaled[i, 0])\n",
        "X_train, y_train = np.array(X_train), np.array(y_train)\n",
        "\n",
        "X_train = np.reshape(X_train, (X_train.shape[0], X_train.shape[1], 1))"
      ],
      "metadata": {
        "id": "c493qS49oImN"
      },
      "execution_count": 13,
      "outputs": []
    },
    {
      "cell_type": "code",
      "source": [
        "from keras.models import Sequential\n",
        "from keras.layers import LSTM\n",
        "from keras.layers import Dropout\n",
        "from keras.layers import Dense"
      ],
      "metadata": {
        "id": "rfkrziEwowrc"
      },
      "execution_count": 14,
      "outputs": []
    },
    {
      "cell_type": "markdown",
      "source": [
        "Add LSTM layer along with dropout layers to prevent overfitting. After that, we add a Dense layer that specifies a one output. Next, we compile the model using the adam optimizer and set the loss as the mean_squared_error"
      ],
      "metadata": {
        "id": "or5-tP-lpDQg"
      }
    },
    {
      "cell_type": "code",
      "source": [
        "model = Sequential()\n",
        "\n",
        "model.add(LSTM(units=50 , return_sequences=True,input_shape=(x_train.shape[1],1)))\n",
        "model.add(Dropout(0.2))\n",
        "\n",
        "model.add(LSTM(units=50 , return_sequences=True))\n",
        "model.add(Dropout(0.2))\n",
        "\n",
        "model.add(LSTM(units=50,return_sequences=True))\n",
        "model.add(Dropout(0.2))\n",
        "\n",
        "model.add(LSTM(units=50))\n",
        "model.add(Dropout(0.2))\n",
        "\n",
        "model.add(Dense(units=1))\n",
        "\n",
        "model.compile(optimizer='adam',loss='mean_squared_error')\n",
        "\n",
        "model.fit(x_train,y_train,epochs=100,batch_size=32)\n"
      ],
      "metadata": {
        "colab": {
          "base_uri": "https://localhost:8080/"
        },
        "id": "CHy6RMWcpdHq",
        "outputId": "d7bc2ac8-764f-4495-d2f7-f63225e31b7e"
      },
      "execution_count": 15,
      "outputs": [
        {
          "output_type": "stream",
          "name": "stdout",
          "text": [
            "Epoch 1/100\n",
            "62/62 [==============================] - 9s 20ms/step - loss: 0.0093\n",
            "Epoch 2/100\n",
            "62/62 [==============================] - 1s 21ms/step - loss: 0.0033\n",
            "Epoch 3/100\n",
            "62/62 [==============================] - 1s 21ms/step - loss: 0.0028\n",
            "Epoch 4/100\n",
            "62/62 [==============================] - 1s 24ms/step - loss: 0.0042\n",
            "Epoch 5/100\n",
            "62/62 [==============================] - 1s 14ms/step - loss: 0.0023\n",
            "Epoch 6/100\n",
            "62/62 [==============================] - 1s 14ms/step - loss: 0.0020\n",
            "Epoch 7/100\n",
            "62/62 [==============================] - 1s 16ms/step - loss: 0.0019\n",
            "Epoch 8/100\n",
            "62/62 [==============================] - 1s 19ms/step - loss: 0.0020\n",
            "Epoch 9/100\n",
            "62/62 [==============================] - 1s 17ms/step - loss: 0.0021\n",
            "Epoch 10/100\n",
            "62/62 [==============================] - 1s 14ms/step - loss: 0.0017\n",
            "Epoch 11/100\n",
            "62/62 [==============================] - 1s 14ms/step - loss: 0.0019\n",
            "Epoch 12/100\n",
            "62/62 [==============================] - 1s 17ms/step - loss: 0.0017\n",
            "Epoch 13/100\n",
            "62/62 [==============================] - 1s 23ms/step - loss: 0.0016\n",
            "Epoch 14/100\n",
            "62/62 [==============================] - 1s 14ms/step - loss: 0.0016\n",
            "Epoch 15/100\n",
            "62/62 [==============================] - 1s 14ms/step - loss: 0.0018\n",
            "Epoch 16/100\n",
            "62/62 [==============================] - 1s 14ms/step - loss: 0.0016\n",
            "Epoch 17/100\n",
            "62/62 [==============================] - 1s 14ms/step - loss: 0.0015\n",
            "Epoch 18/100\n",
            "62/62 [==============================] - 1s 14ms/step - loss: 0.0020\n",
            "Epoch 19/100\n",
            "62/62 [==============================] - 1s 14ms/step - loss: 0.0015\n",
            "Epoch 20/100\n",
            "62/62 [==============================] - 1s 19ms/step - loss: 0.0014\n",
            "Epoch 21/100\n",
            "62/62 [==============================] - 1s 20ms/step - loss: 0.0016\n",
            "Epoch 22/100\n",
            "62/62 [==============================] - 1s 15ms/step - loss: 0.0014\n",
            "Epoch 23/100\n",
            "62/62 [==============================] - 1s 14ms/step - loss: 0.0012\n",
            "Epoch 24/100\n",
            "62/62 [==============================] - 1s 14ms/step - loss: 0.0013\n",
            "Epoch 25/100\n",
            "62/62 [==============================] - 1s 14ms/step - loss: 0.0013\n",
            "Epoch 26/100\n",
            "62/62 [==============================] - 1s 14ms/step - loss: 0.0011\n",
            "Epoch 27/100\n",
            "62/62 [==============================] - 1s 14ms/step - loss: 0.0011\n",
            "Epoch 28/100\n",
            "62/62 [==============================] - 1s 14ms/step - loss: 0.0012\n",
            "Epoch 29/100\n",
            "62/62 [==============================] - 1s 14ms/step - loss: 0.0013\n",
            "Epoch 30/100\n",
            "62/62 [==============================] - 1s 14ms/step - loss: 0.0011\n",
            "Epoch 31/100\n",
            "62/62 [==============================] - 1s 14ms/step - loss: 0.0013\n",
            "Epoch 32/100\n",
            "62/62 [==============================] - 1s 14ms/step - loss: 0.0013\n",
            "Epoch 33/100\n",
            "62/62 [==============================] - 1s 17ms/step - loss: 0.0012\n",
            "Epoch 34/100\n",
            "62/62 [==============================] - 1s 20ms/step - loss: 0.0010\n",
            "Epoch 35/100\n",
            "62/62 [==============================] - 1s 16ms/step - loss: 0.0011\n",
            "Epoch 36/100\n",
            "62/62 [==============================] - 1s 14ms/step - loss: 9.1583e-04\n",
            "Epoch 37/100\n",
            "62/62 [==============================] - 1s 14ms/step - loss: 9.9714e-04\n",
            "Epoch 38/100\n",
            "62/62 [==============================] - 1s 14ms/step - loss: 9.7430e-04\n",
            "Epoch 39/100\n",
            "62/62 [==============================] - 1s 14ms/step - loss: 9.7823e-04\n",
            "Epoch 40/100\n",
            "62/62 [==============================] - 1s 14ms/step - loss: 9.5696e-04\n",
            "Epoch 41/100\n",
            "62/62 [==============================] - 1s 14ms/step - loss: 8.7897e-04\n",
            "Epoch 42/100\n",
            "62/62 [==============================] - 1s 14ms/step - loss: 8.4501e-04\n",
            "Epoch 43/100\n",
            "62/62 [==============================] - 1s 14ms/step - loss: 9.7899e-04\n",
            "Epoch 44/100\n",
            "62/62 [==============================] - 1s 14ms/step - loss: 9.3553e-04\n",
            "Epoch 45/100\n",
            "62/62 [==============================] - 1s 14ms/step - loss: 8.6810e-04\n",
            "Epoch 46/100\n",
            "62/62 [==============================] - 1s 18ms/step - loss: 8.6712e-04\n",
            "Epoch 47/100\n",
            "62/62 [==============================] - 1s 20ms/step - loss: 8.3623e-04\n",
            "Epoch 48/100\n",
            "62/62 [==============================] - 1s 17ms/step - loss: 7.8733e-04\n",
            "Epoch 49/100\n",
            "62/62 [==============================] - 1s 14ms/step - loss: 8.6690e-04\n",
            "Epoch 50/100\n",
            "62/62 [==============================] - 1s 14ms/step - loss: 9.2321e-04\n",
            "Epoch 51/100\n",
            "62/62 [==============================] - 1s 14ms/step - loss: 8.9164e-04\n",
            "Epoch 52/100\n",
            "62/62 [==============================] - 1s 14ms/step - loss: 8.6338e-04\n",
            "Epoch 53/100\n",
            "62/62 [==============================] - 1s 14ms/step - loss: 7.4293e-04\n",
            "Epoch 54/100\n",
            "62/62 [==============================] - 1s 14ms/step - loss: 7.9931e-04\n",
            "Epoch 55/100\n",
            "62/62 [==============================] - 1s 14ms/step - loss: 8.1306e-04\n",
            "Epoch 56/100\n",
            "62/62 [==============================] - 1s 14ms/step - loss: 7.6849e-04\n",
            "Epoch 57/100\n",
            "62/62 [==============================] - 1s 14ms/step - loss: 8.4734e-04\n",
            "Epoch 58/100\n",
            "62/62 [==============================] - 1s 14ms/step - loss: 8.3278e-04\n",
            "Epoch 59/100\n",
            "62/62 [==============================] - 1s 14ms/step - loss: 8.2443e-04\n",
            "Epoch 60/100\n",
            "62/62 [==============================] - 1s 20ms/step - loss: 9.2251e-04\n",
            "Epoch 61/100\n",
            "62/62 [==============================] - 1s 19ms/step - loss: 7.6547e-04\n",
            "Epoch 62/100\n",
            "62/62 [==============================] - 1s 14ms/step - loss: 7.4678e-04\n",
            "Epoch 63/100\n",
            "62/62 [==============================] - 1s 14ms/step - loss: 7.6020e-04\n",
            "Epoch 64/100\n",
            "62/62 [==============================] - 1s 14ms/step - loss: 8.0732e-04\n",
            "Epoch 65/100\n",
            "62/62 [==============================] - 1s 14ms/step - loss: 7.0803e-04\n",
            "Epoch 66/100\n",
            "62/62 [==============================] - 1s 14ms/step - loss: 7.7777e-04\n",
            "Epoch 67/100\n",
            "62/62 [==============================] - 1s 14ms/step - loss: 8.2968e-04\n",
            "Epoch 68/100\n",
            "62/62 [==============================] - 1s 14ms/step - loss: 7.5041e-04\n",
            "Epoch 69/100\n",
            "62/62 [==============================] - 1s 14ms/step - loss: 6.8932e-04\n",
            "Epoch 70/100\n",
            "62/62 [==============================] - 1s 15ms/step - loss: 6.3515e-04\n",
            "Epoch 71/100\n",
            "62/62 [==============================] - 1s 15ms/step - loss: 7.3800e-04\n",
            "Epoch 72/100\n",
            "62/62 [==============================] - 1s 14ms/step - loss: 6.4502e-04\n",
            "Epoch 73/100\n",
            "62/62 [==============================] - 1s 19ms/step - loss: 8.9938e-04\n",
            "Epoch 74/100\n",
            "62/62 [==============================] - 1s 19ms/step - loss: 6.9892e-04\n",
            "Epoch 75/100\n",
            "62/62 [==============================] - 1s 15ms/step - loss: 6.8876e-04\n",
            "Epoch 76/100\n",
            "62/62 [==============================] - 1s 14ms/step - loss: 7.7178e-04\n",
            "Epoch 77/100\n",
            "62/62 [==============================] - 1s 14ms/step - loss: 7.7703e-04\n",
            "Epoch 78/100\n",
            "62/62 [==============================] - 1s 15ms/step - loss: 7.0969e-04\n",
            "Epoch 79/100\n",
            "62/62 [==============================] - 1s 14ms/step - loss: 7.5552e-04\n",
            "Epoch 80/100\n",
            "62/62 [==============================] - 1s 14ms/step - loss: 7.4798e-04\n",
            "Epoch 81/100\n",
            "62/62 [==============================] - 1s 14ms/step - loss: 6.9391e-04\n",
            "Epoch 82/100\n",
            "62/62 [==============================] - 1s 14ms/step - loss: 7.1425e-04\n",
            "Epoch 83/100\n",
            "62/62 [==============================] - 1s 14ms/step - loss: 6.9073e-04\n",
            "Epoch 84/100\n",
            "62/62 [==============================] - 1s 14ms/step - loss: 7.1988e-04\n",
            "Epoch 85/100\n",
            "62/62 [==============================] - 1s 14ms/step - loss: 7.0609e-04\n",
            "Epoch 86/100\n",
            "62/62 [==============================] - 1s 17ms/step - loss: 7.1259e-04\n",
            "Epoch 87/100\n",
            "62/62 [==============================] - 1s 20ms/step - loss: 7.6217e-04\n",
            "Epoch 88/100\n",
            "62/62 [==============================] - 1s 17ms/step - loss: 8.0790e-04\n",
            "Epoch 89/100\n",
            "62/62 [==============================] - 1s 14ms/step - loss: 9.1743e-04\n",
            "Epoch 90/100\n",
            "62/62 [==============================] - 1s 14ms/step - loss: 6.5401e-04\n",
            "Epoch 91/100\n",
            "62/62 [==============================] - 1s 14ms/step - loss: 7.0433e-04\n",
            "Epoch 92/100\n",
            "62/62 [==============================] - 1s 14ms/step - loss: 7.9841e-04\n",
            "Epoch 93/100\n",
            "62/62 [==============================] - 1s 14ms/step - loss: 6.5206e-04\n",
            "Epoch 94/100\n",
            "62/62 [==============================] - 1s 14ms/step - loss: 6.2407e-04\n",
            "Epoch 95/100\n",
            "62/62 [==============================] - 1s 14ms/step - loss: 6.8036e-04\n",
            "Epoch 96/100\n",
            "62/62 [==============================] - 1s 14ms/step - loss: 7.4266e-04\n",
            "Epoch 97/100\n",
            "62/62 [==============================] - 1s 14ms/step - loss: 6.5503e-04\n",
            "Epoch 98/100\n",
            "62/62 [==============================] - 1s 14ms/step - loss: 6.8829e-04\n",
            "Epoch 99/100\n",
            "62/62 [==============================] - 1s 16ms/step - loss: 6.3198e-04\n",
            "Epoch 100/100\n",
            "62/62 [==============================] - 1s 20ms/step - loss: 7.1191e-04\n"
          ]
        },
        {
          "output_type": "execute_result",
          "data": {
            "text/plain": [
              "<keras.callbacks.History at 0x7f8ec5e3d3c0>"
            ]
          },
          "metadata": {},
          "execution_count": 15
        }
      ]
    },
    {
      "cell_type": "code",
      "source": [
        "url = 'https://raw.githubusercontent.com/mwitiderrick/stockprice/master/tatatest.csv'\n",
        "dataset_test = pd.read_csv(url)\n",
        "real_stock_price = dataset_test.iloc[:, 1:2].values"
      ],
      "metadata": {
        "id": "HlR2-u4Op0t7"
      },
      "execution_count": 16,
      "outputs": []
    },
    {
      "cell_type": "markdown",
      "source": [
        "Before predicting future stock prices , we have to manipulate the trinaing set; we merge the training set and the test set on the 0  axis , set the time step to 60, use minmaxscler,and reshape the dataset as done previously. After making predictions, we use inverse_transform to get back the stock prices in normal readacle format."
      ],
      "metadata": {
        "id": "53IEIGGyp5H9"
      }
    },
    {
      "cell_type": "code",
      "source": [
        "dataset_total = pd.concat((dataset_train['Open'], dataset_test['Open']), axis = 0)\n",
        "inputs = dataset_total[len(dataset_total) - len(dataset_test) - 60:].values\n",
        "inputs = inputs.reshape(-1,1)\n",
        "inputs = sc.transform(inputs)\n",
        "X_test = []\n",
        "for i in range(60, 76):\n",
        "    X_test.append(inputs[i-60:i, 0])\n",
        "X_test = np.array(X_test)\n",
        "X_test = np.reshape(X_test, (X_test.shape[0], X_test.shape[1], 1))\n",
        "predicted_stock_price = model.predict(X_test)\n",
        "predicted_stock_price = sc.inverse_transform(predicted_stock_price)"
      ],
      "metadata": {
        "colab": {
          "base_uri": "https://localhost:8080/"
        },
        "id": "RXUAwywCt5tx",
        "outputId": "2b6d8324-f392-44a6-aa42-bdbd49fff1d8"
      },
      "execution_count": 17,
      "outputs": [
        {
          "output_type": "stream",
          "name": "stdout",
          "text": [
            "1/1 [==============================] - 2s 2s/step\n"
          ]
        }
      ]
    },
    {
      "cell_type": "code",
      "source": [
        "plt.plot(real_stock_price, color = 'black', label = 'TATA Stock Price')\n",
        "plt.plot(predicted_stock_price, color = 'green', label = 'Predicted TATA Stock Price')\n",
        "plt.title('TATA Stock Price Prediction')\n",
        "plt.xlabel('Time')\n",
        "plt.ylabel('TATA Stock Price')\n",
        "plt.legend()\n",
        "plt.show()"
      ],
      "metadata": {
        "colab": {
          "base_uri": "https://localhost:8080/",
          "height": 472
        },
        "id": "WMMsN7J9vVhP",
        "outputId": "c330deb8-f87e-486a-af8a-c90df7d38da2"
      },
      "execution_count": 18,
      "outputs": [
        {
          "output_type": "display_data",
          "data": {
            "text/plain": [
              "<Figure size 640x480 with 1 Axes>"
            ],
            "image/png": "[encoded data removed]"
          },
          "metadata": {}
        }
      ]
    },
    {
      "cell_type": "code",
      "source": [],
      "metadata": {
        "id": "8rh40OahvajL"
      },
      "execution_count": null,
      "outputs": []
    }
  ]
}